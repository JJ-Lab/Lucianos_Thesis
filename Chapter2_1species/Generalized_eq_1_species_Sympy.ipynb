{
 "cells": [
  {
   "cell_type": "markdown",
   "metadata": {},
   "source": [
    "# The generalized model\n",
    "\n",
    "The equation of the generalized model for 1 species can be written as follows:\n",
    "\n",
    "$\n",
    "\\dot{X} = X\\left[\\left(r+b X\\right)-\\left(a + c b X\\right)X\\right],\n",
    "$\n",
    "\n"
   ]
  },
  {
   "cell_type": "code",
   "execution_count": 1,
   "metadata": {},
   "outputs": [],
   "source": [
    "from sympy.abc import x, y\n",
    "from sympy.solvers import solve\n",
    "from sympy import *"
   ]
  },
  {
   "cell_type": "code",
   "execution_count": 2,
   "metadata": {},
   "outputs": [],
   "source": [
    "# We define the symbols for the equations and functiones\n",
    "a,b,r,c = symbols('a b r c')\n",
    "f = Function('f')"
   ]
  },
  {
   "cell_type": "code",
   "execution_count": 3,
   "metadata": {},
   "outputs": [],
   "source": [
    "# We define the function to solve\n",
    "\n",
    "eq = r+(b-a)*x - c*b*x**2\n",
    "f= x*eq\n"
   ]
  },
  {
   "cell_type": "markdown",
   "metadata": {},
   "source": [
    "We calculate the fixed points"
   ]
  },
  {
   "cell_type": "code",
   "execution_count": 4,
   "metadata": {},
   "outputs": [
    {
     "name": "stdout",
     "output_type": "stream",
     "text": [
      "fixed points = (0, (-a + b - sqrt(a**2 - 2*a*b + b**2 + 4*b*c*r))/(2*b*c), (-a + b + sqrt(a**2 - 2*a*b + b**2 + 4*b*c*r))/(2*b*c))\n"
     ]
    }
   ],
   "source": [
    "s1,s2,s3=solve(f,x)\n",
    "print('fixed points =',(s1,s2,s3))"
   ]
  },
  {
   "cell_type": "markdown",
   "metadata": {},
   "source": [
    "We calculate the Jacobian of the function"
   ]
  },
  {
   "cell_type": "code",
   "execution_count": 5,
   "metadata": {},
   "outputs": [
    {
     "name": "stdout",
     "output_type": "stream",
     "text": [
      "f'(x) = -2*a*x - 3*b*c*x**2 + 2*b*x + r\n"
     ]
    }
   ],
   "source": [
    "dfdx = f.diff(x)\n",
    "print(\"f'(x) =\", simplify(dfdx))"
   ]
  },
  {
   "cell_type": "markdown",
   "metadata": {},
   "source": [
    "We evaluate the jacobian in the fixed points"
   ]
  },
  {
   "cell_type": "code",
   "execution_count": 6,
   "metadata": {},
   "outputs": [
    {
     "data": {
      "text/plain": [
       "r"
      ]
     },
     "execution_count": 6,
     "metadata": {},
     "output_type": "execute_result"
    }
   ],
   "source": [
    "L1=dfdx.subs(x,s1)\n",
    "L1"
   ]
  },
  {
   "cell_type": "code",
   "execution_count": 7,
   "metadata": {},
   "outputs": [
    {
     "data": {
      "text/plain": [
       "r + (-a + b)*(-a + b - sqrt(a**2 - 2*a*b + b**2 + 4*b*c*r))/(2*b*c) - (-a + b - sqrt(a**2 - 2*a*b + b**2 + 4*b*c*r))**2/(4*b*c) + (-a + b - sqrt(a**2 - 2*a*b + b**2 + 4*b*c*r))*sqrt(a**2 - 2*a*b + b**2 + 4*b*c*r)/(2*b*c)"
      ]
     },
     "execution_count": 7,
     "metadata": {},
     "output_type": "execute_result"
    }
   ],
   "source": [
    "L2=dfdx.subs(x,s2)\n",
    "L2"
   ]
  },
  {
   "cell_type": "code",
   "execution_count": 8,
   "metadata": {},
   "outputs": [
    {
     "data": {
      "text/plain": [
       "-(a**2 - 2*a*b - a*sqrt(a**2 - 2*a*b + b**2 + 4*b*c*r) + b**2 + 4*b*c*r + b*sqrt(a**2 - 2*a*b + b**2 + 4*b*c*r))/(2*b*c)"
      ]
     },
     "execution_count": 8,
     "metadata": {},
     "output_type": "execute_result"
    }
   ],
   "source": [
    "L3=simplify(dfdx.subs(x,s3))\n",
    "L3"
   ]
  },
  {
   "cell_type": "code",
   "execution_count": 15,
   "metadata": {},
   "outputs": [
    {
     "data": {
      "text/plain": [
       "-0.1395 - 0.0918681119866954*I"
      ]
     },
     "execution_count": 15,
     "metadata": {},
     "output_type": "execute_result"
    }
   ],
   "source": [
    "# We can evaluate the eigenvalues with the numerical values of $r,c,b,a$\n",
    "L3.subs(r,0.1).subs(b,-0.01).subs(a,0.001).subs(c,0.1)"
   ]
  },
  {
   "cell_type": "code",
   "execution_count": 14,
   "metadata": {},
   "outputs": [
    {
     "name": "stdout",
     "output_type": "stream",
     "text": [
      "Jacobian Matrix([[-b*c*x**2 + r + x*(-a + b) + x*(-a - 2*b*c*x + b)]])\n",
      "---------------------\n",
      "The eigenvalues for the fixed point (0) is {r: 1}:\n",
      "-------------------------------------------\n",
      "The eigenvalues for the fixed point ((-a + b - sqrt(a**2 - 2*a*b + b**2 + 4*b*c*r))/(2*b*c)) is {(-a**2 + 2*a*b - a*sqrt(a**2 - 2*a*b + b**2 + 4*b*c*r) - b**2 - 4*b*c*r + b*sqrt(a**2 - 2*a*b + b**2 + 4*b*c*r))/(2*b*c): 1}:\n",
      "-------------------------------------------\n",
      "The eigenvalues for the fixed point ((-a + b + sqrt(a**2 - 2*a*b + b**2 + 4*b*c*r))/(2*b*c)) is {(-a**2 + 2*a*b + a*sqrt(a**2 - 2*a*b + b**2 + 4*b*c*r) - b**2 - 4*b*c*r - b*sqrt(a**2 - 2*a*b + b**2 + 4*b*c*r))/(2*b*c): 1}:\n",
      "-------------------------------------------\n"
     ]
    }
   ],
   "source": [
    "# Another way to calculate the Jacobian Matrix and the eigenvalues.\n",
    "equilibria = solve(f,x)\n",
    "eqMat = Matrix([f])\n",
    "Mat = Matrix([x])\n",
    "jacMat =eqMat.jacobian(Mat)\n",
    "print('Jacobian %s' % jacMat)\n",
    "print('---------------------')\n",
    "\n",
    "# iterate through list of equilibria\n",
    "for item in equilibria:\n",
    "    eqmat = jacMat.subs([ (x, item)])\n",
    "    print('The eigenvalues for the fixed point (%s) is %s:' \n",
    "          %(item, eqmat.eigenvals()))\n",
    "    \n",
    "    print('-------------------------------------------')\n"
   ]
  },
  {
   "cell_type": "code",
   "execution_count": 142,
   "metadata": {},
   "outputs": [
    {
     "data": {
      "text/plain": [
       "Matrix([[r + (-a + b)*(-a + b - sqrt(a**2 - 2*a*b + b**2 + 4*b*c*r))/(2*b*c) - (-a + b - sqrt(a**2 - 2*a*b + b**2 + 4*b*c*r))**2/(4*b*c) + (-a + b - sqrt(a**2 - 2*a*b + b**2 + 4*b*c*r))*sqrt(a**2 - 2*a*b + b**2 + 4*b*c*r)/(2*b*c)]])"
      ]
     },
     "execution_count": 142,
     "metadata": {},
     "output_type": "execute_result"
    }
   ],
   "source": [
    "eqmat = jacMat.subs([ (x, s2)])\n",
    "eqmat.refine(Q.positive(b)).refine(Q.negative(r))"
   ]
  },
  {
   "cell_type": "code",
   "execution_count": null,
   "metadata": {},
   "outputs": [],
   "source": []
  }
 ],
 "metadata": {
  "kernelspec": {
   "display_name": "Python 3",
   "language": "python",
   "name": "python3"
  },
  "language_info": {
   "codemirror_mode": {
    "name": "ipython",
    "version": 3
   },
   "file_extension": ".py",
   "mimetype": "text/x-python",
   "name": "python",
   "nbconvert_exporter": "python",
   "pygments_lexer": "ipython3",
   "version": "3.6.5"
  }
 },
 "nbformat": 4,
 "nbformat_minor": 2
}
